{
 "cells": [
  {
   "cell_type": "markdown",
   "metadata": {},
   "source": [
    "# Zipcode data"
   ]
  },
  {
   "cell_type": "code",
   "execution_count": 1,
   "metadata": {},
   "outputs": [
    {
     "name": "stdout",
     "output_type": "stream",
     "text": [
      "   0    1    2    3      4      5      6      7      8      9    ...    248  \\\n",
      "0  6.0 -1.0 -1.0 -1.0 -1.000 -1.000 -1.000 -1.000 -0.631  0.862  ...  0.823   \n",
      "1  5.0 -1.0 -1.0 -1.0 -0.813 -0.671 -0.809 -0.887 -0.671 -0.853  ... -0.671   \n",
      "2  4.0 -1.0 -1.0 -1.0 -1.000 -1.000 -1.000 -1.000 -1.000 -1.000  ... -1.000   \n",
      "3  7.0 -1.0 -1.0 -1.0 -1.000 -1.000 -0.273  0.684  0.960  0.450  ...  1.000   \n",
      "4  3.0 -1.0 -1.0 -1.0 -1.000 -1.000 -0.928 -0.204  0.751  0.466  ...  0.639   \n",
      "\n",
      "     249    250    251    252    253    254    255  256  257  \n",
      "0  1.000  0.482 -0.474 -0.991 -1.000 -1.000 -1.000 -1.0  NaN  \n",
      "1 -0.033  0.761  0.762  0.126 -0.095 -0.671 -0.828 -1.0  NaN  \n",
      "2 -1.000 -0.109  1.000 -0.179 -1.000 -1.000 -1.000 -1.0  NaN  \n",
      "3  0.536 -0.987 -1.000 -1.000 -1.000 -1.000 -1.000 -1.0  NaN  \n",
      "4  1.000  1.000  0.791  0.439 -0.199 -0.883 -1.000 -1.0  NaN  \n",
      "\n",
      "[5 rows x 258 columns]\n"
     ]
    }
   ],
   "source": [
    "import numpy as np\n",
    "import pandas as pd\n",
    "import matplotlib.pyplot as plt\n",
    "import sklearn\n",
    "\n",
    "# data_path = 'zip.train'\n",
    "# data = open('zip.train', 'r')\n",
    "# txt = data.readline()\n",
    "# data.close()\n",
    "\n",
    "# Load the file with training data\n",
    "file = pd.read_csv('zip.train', ' ', header=None)    \n",
    "print(file.head())"
   ]
  },
  {
   "cell_type": "code",
   "execution_count": 2,
   "metadata": {},
   "outputs": [],
   "source": [
    "# Create feature vector\n",
    "X = pd.DataFrame()\n",
    "count = 0\n",
    "\n",
    "for i in file.columns:\n",
    "    X.insert(count, i, file[i])\n",
    "    count += 1\n",
    "X = X.drop([257], axis=1)\n",
    "# print(X[:5])"
   ]
  },
  {
   "cell_type": "code",
   "execution_count": 3,
   "metadata": {},
   "outputs": [
    {
     "name": "stdout",
     "output_type": "stream",
     "text": [
      "(7291, 257)\n",
      "(7291, 1)\n"
     ]
    }
   ],
   "source": [
    "# Check the shape of your inputs\n",
    "Y = X[[0]]\n",
    "print(X.shape)\n",
    "print(Y.shape)"
   ]
  },
  {
   "cell_type": "code",
   "execution_count": 4,
   "metadata": {},
   "outputs": [],
   "source": [
    "from sklearn import linear_model\n",
    "from sklearn.metrics import mean_squared_error, r2_score\n",
    "\n",
    "# Create Linear model\n",
    "model = linear_model.LogisticRegression(random_state=0) # Logistic regression"
   ]
  },
  {
   "cell_type": "code",
   "execution_count": 5,
   "metadata": {},
   "outputs": [
    {
     "name": "stderr",
     "output_type": "stream",
     "text": [
      "/home/tomas/anaconda3/envs/deep-learning/lib/python3.8/site-packages/sklearn/linear_model/_logistic.py:762: ConvergenceWarning: lbfgs failed to converge (status=1):\n",
      "STOP: TOTAL NO. of ITERATIONS REACHED LIMIT.\n",
      "\n",
      "Increase the number of iterations (max_iter) or scale the data as shown in:\n",
      "    https://scikit-learn.org/stable/modules/preprocessing.html\n",
      "Please also refer to the documentation for alternative solver options:\n",
      "    https://scikit-learn.org/stable/modules/linear_model.html#logistic-regression\n",
      "  n_iter_i = _check_optimize_result(\n"
     ]
    },
    {
     "data": {
      "text/plain": [
       "LogisticRegression(random_state=0)"
      ]
     },
     "execution_count": 5,
     "metadata": {},
     "output_type": "execute_result"
    }
   ],
   "source": [
    "# Fit the model\n",
    "model.fit(X, Y.values.ravel())"
   ]
  },
  {
   "cell_type": "code",
   "execution_count": 6,
   "metadata": {},
   "outputs": [],
   "source": [
    "# Make a prediction\n",
    "Y_pred = model.predict(X)"
   ]
  },
  {
   "cell_type": "code",
   "execution_count": 7,
   "metadata": {
    "scrolled": true
   },
   "outputs": [
    {
     "name": "stdout",
     "output_type": "stream",
     "text": [
      "Score: 0.9998628446029352\n",
      "Intercept: [ 0.73249587 -0.02397473  1.08408517  0.3639647   0.08624165  0.34850141\n",
      " -0.66613465 -0.33878537 -0.4840543  -1.10233973]\n",
      "Mean squared error (MSE): 0.0001371553970648745\n",
      "Coefficient of determination (R^2): 0.9999847216335701\n"
     ]
    }
   ],
   "source": [
    "# Print the results\n",
    "print(f'Score: {model.score(X,Y)}')\n",
    "print(f'Intercept: {model.intercept_}')\n",
    "print(f'Mean squared error (MSE): {mean_squared_error(Y, Y_pred)}')\n",
    "print(f'Coefficient of determination (R^2): {r2_score(Y, Y_pred)}')"
   ]
  },
  {
   "cell_type": "markdown",
   "metadata": {},
   "source": [
    "## K-nearest neighbors classification"
   ]
  },
  {
   "cell_type": "code",
   "execution_count": 8,
   "metadata": {},
   "outputs": [
    {
     "data": {
      "text/plain": [
       "KNeighborsClassifier(n_neighbors=7)"
      ]
     },
     "execution_count": 8,
     "metadata": {},
     "output_type": "execute_result"
    }
   ],
   "source": [
    "from sklearn.neighbors import KNeighborsClassifier\n",
    "\n",
    "# Create classification model and fit it\n",
    "cls = KNeighborsClassifier(n_neighbors=7)\n",
    "cls.fit(X, Y.values.ravel()) "
   ]
  },
  {
   "cell_type": "code",
   "execution_count": null,
   "metadata": {},
   "outputs": [
    {
     "name": "stdout",
     "output_type": "stream",
     "text": [
      "KNN n_neighbors = 1\n",
      "Acc score: 1.0\n",
      "KNN n_neighbors = 2\n",
      "Acc score: 0.9916335207790427\n",
      "KNN n_neighbors = 3\n",
      "Acc score: 0.993416540940886\n",
      "KNN n_neighbors = 4\n",
      "Acc score: 0.9916335207790427\n",
      "KNN n_neighbors = 5\n",
      "Acc score: 0.9905362776025236\n",
      "KNN n_neighbors = 6\n",
      "Acc score: 0.9877931696612262\n",
      "KNN n_neighbors = 7\n",
      "Acc score: 0.9873817034700315\n",
      "KNN n_neighbors = 8\n",
      "Acc score: 0.9862844602935126\n",
      "KNN n_neighbors = 9\n",
      "Acc score: 0.9854615279111233\n",
      "KNN n_neighbors = 10\n",
      "Acc score: 0.9839528185434097\n",
      "KNN n_neighbors = 11\n",
      "Acc score: 0.9835413523522151\n",
      "KNN n_neighbors = 12\n",
      "Acc score: 0.9832670415580853\n",
      "KNN n_neighbors = 13\n",
      "Acc score: 0.9828555753668907\n",
      "KNN n_neighbors = 14\n"
     ]
    }
   ],
   "source": [
    "for i in range(1, 16):\n",
    "    print(f\"KNN n_neighbors = {i}\")\n",
    "    cls = KNeighborsClassifier(n_neighbors=i)\n",
    "    cls.fit(X, Y.values.ravel())\n",
    "    cls_pred = cls.predict(X)\n",
    "    score = cls.score(X, Y)\n",
    "    print(f\"Acc score: {score}\")"
   ]
  },
  {
   "cell_type": "code",
   "execution_count": 9,
   "metadata": {},
   "outputs": [
    {
     "name": "stdout",
     "output_type": "stream",
     "text": [
      "[6. 5. 4. ... 3. 0. 1.]\n"
     ]
    }
   ],
   "source": [
    "print(Y.values.ravel())"
   ]
  },
  {
   "cell_type": "code",
   "execution_count": 10,
   "metadata": {},
   "outputs": [],
   "source": [
    "# Make a prediction\n",
    "cls_pred = cls.predict(X)"
   ]
  },
  {
   "cell_type": "code",
   "execution_count": 11,
   "metadata": {},
   "outputs": [
    {
     "name": "stdout",
     "output_type": "stream",
     "text": [
      "Acc score: 0.9873817034700315\n",
      "Probability: [[0. 0. 0. ... 0. 0. 0.]\n",
      " [0. 0. 0. ... 0. 0. 0.]\n",
      " [0. 0. 0. ... 0. 0. 0.]\n",
      " ...\n",
      " [0. 0. 0. ... 0. 0. 0.]\n",
      " [1. 0. 0. ... 0. 0. 0.]\n",
      " [0. 1. 0. ... 0. 0. 0.]]\n"
     ]
    }
   ],
   "source": [
    "# Check the score\n",
    "score = cls.score(X, Y)\n",
    "prob = cls.predict_proba(X)\n",
    "print(f\"Acc score: {score}\")\n",
    "print(f\"Probability: {prob}\")"
   ]
  },
  {
   "cell_type": "code",
   "execution_count": 12,
   "metadata": {
    "scrolled": false
   },
   "outputs": [
    {
     "data": {
      "text/plain": [
       "array([[1., 0., 0., ..., 0., 0., 0.],\n",
       "       [0., 1., 0., ..., 0., 0., 0.],\n",
       "       [0., 0., 1., ..., 0., 0., 0.],\n",
       "       ...,\n",
       "       [0., 0., 0., ..., 1., 0., 0.],\n",
       "       [0., 0., 0., ..., 0., 1., 0.],\n",
       "       [0., 0., 0., ..., 0., 0., 1.]])"
      ]
     },
     "execution_count": 12,
     "metadata": {},
     "output_type": "execute_result"
    }
   ],
   "source": [
    "a = cls.kneighbors_graph(X)\n",
    "a.toarray()"
   ]
  },
  {
   "cell_type": "markdown",
   "metadata": {},
   "source": [
    "# Test data"
   ]
  },
  {
   "cell_type": "code",
   "execution_count": 13,
   "metadata": {},
   "outputs": [],
   "source": [
    "# Load the file with test data\n",
    "test_file = pd.read_csv('zip.test', ' ', header=None)\n",
    "Y_test_file = test_file[[0]]"
   ]
  },
  {
   "cell_type": "code",
   "execution_count": 14,
   "metadata": {},
   "outputs": [
    {
     "name": "stdout",
     "output_type": "stream",
     "text": [
      "Test file shape: (2007, 257)\n",
      "Y shape: (2007, 1)\n"
     ]
    }
   ],
   "source": [
    "# Check the shape of inputs\n",
    "print(f\"Test file shape: {test_file.shape}\")\n",
    "print(f\"Y shape: {Y_test_file.shape}\")"
   ]
  },
  {
   "cell_type": "markdown",
   "metadata": {},
   "source": [
    "## Logistic regression"
   ]
  },
  {
   "cell_type": "code",
   "execution_count": 15,
   "metadata": {},
   "outputs": [],
   "source": [
    "# Make a prediction\n",
    "test_data_pred = model.predict(test_file)"
   ]
  },
  {
   "cell_type": "code",
   "execution_count": 16,
   "metadata": {
    "scrolled": true
   },
   "outputs": [
    {
     "name": "stdout",
     "output_type": "stream",
     "text": [
      "Score: 0.9646238166417539\n",
      "Intercept: [ 0.73249587 -0.02397473  1.08408517  0.3639647   0.08624165  0.34850141\n",
      " -0.66613465 -0.33878537 -0.4840543  -1.10233973]\n",
      "Mean squared error (MSE): 0.16591928251121077\n",
      "Coefficient of determination (R^2): 0.981780536168797\n"
     ]
    }
   ],
   "source": [
    "# Print the results\n",
    "print(f'Score: {model.score(test_file, Y_test_file)}')\n",
    "print(f'Intercept: {model.intercept_}')\n",
    "print(f'Mean squared error (MSE): {mean_squared_error(Y_test_file, test_data_pred)}')\n",
    "print(f'Coefficient of determination (R^2): {r2_score(Y_test_file, test_data_pred)}')"
   ]
  },
  {
   "cell_type": "markdown",
   "metadata": {},
   "source": [
    "## Classification"
   ]
  },
  {
   "cell_type": "code",
   "execution_count": 17,
   "metadata": {},
   "outputs": [],
   "source": [
    "# Make a prediction\n",
    "test_data_classification = cls.predict(test_file)"
   ]
  },
  {
   "cell_type": "code",
   "execution_count": 18,
   "metadata": {},
   "outputs": [
    {
     "name": "stdout",
     "output_type": "stream",
     "text": [
      "[9. 6. 3. 6. 6.]\n"
     ]
    }
   ],
   "source": [
    "# Reshape the data\n",
    "# test_data_classification = test_data_classification.reshape(-1, 1)\n",
    "print(test_data_classification[:5])"
   ]
  },
  {
   "cell_type": "code",
   "execution_count": 19,
   "metadata": {},
   "outputs": [
    {
     "name": "stdout",
     "output_type": "stream",
     "text": [
      "Test classification data shape: (2007, 257)\n",
      "Y shape: (2007, 1)\n"
     ]
    }
   ],
   "source": [
    "# Check the shape of data\n",
    "print(f\"Test classification data shape: {test_file.shape}\")\n",
    "print(f\"Y shape: {Y_test_file.shape}\")"
   ]
  },
  {
   "cell_type": "code",
   "execution_count": 20,
   "metadata": {},
   "outputs": [
    {
     "name": "stdout",
     "output_type": "stream",
     "text": [
      "Acc score: 0.9671150971599403\n",
      "Probability: [[0. 0. 0. ... 0. 0. 1.]\n",
      " [0. 0. 0. ... 0. 0. 0.]\n",
      " [0. 0. 0. ... 0. 0. 0.]\n",
      " ...\n",
      " [0. 0. 0. ... 0. 0. 0.]\n",
      " [1. 0. 0. ... 0. 0. 0.]\n",
      " [0. 1. 0. ... 0. 0. 0.]]\n"
     ]
    }
   ],
   "source": [
    "# Print the score\n",
    "score_class = cls.score(test_file, Y_test_file)\n",
    "prob_class = cls.predict_proba(test_file)\n",
    "print(f\"Acc score: {score_class}\")\n",
    "print(f\"Probability: {prob_class}\")"
   ]
  },
  {
   "cell_type": "markdown",
   "metadata": {},
   "source": [
    "## PCA"
   ]
  },
  {
   "cell_type": "markdown",
   "metadata": {},
   "source": [
    "I create PCA model with all the features to see how the variance change with different number of components."
   ]
  },
  {
   "cell_type": "code",
   "execution_count": 75,
   "metadata": {},
   "outputs": [],
   "source": [
    "from sklearn.decomposition import PCA\n",
    "from sklearn.preprocessing import normalize\n",
    "\n",
    "# Create PCA model\n",
    "pca = PCA()\n",
    "\n",
    "x_norm = normalize(X)\n",
    "\n",
    "# Fit and transform the model\n",
    "X_new_train = pca.fit(x_norm)"
   ]
  },
  {
   "cell_type": "code",
   "execution_count": 76,
   "metadata": {},
   "outputs": [
    {
     "name": "stdout",
     "output_type": "stream",
     "text": [
      "PCA score : 677.4607130468963\n",
      "PCA noise variance : 0.0\n"
     ]
    }
   ],
   "source": [
    "print(\"PCA score :\", pca.score(x_norm))\n",
    "print(\"PCA noise variance :\",pca.noise_variance_)"
   ]
  },
  {
   "cell_type": "code",
   "execution_count": 77,
   "metadata": {},
   "outputs": [
    {
     "data": {
      "text/plain": [
       "Text(0, 0.5, 'Variance explained')"
      ]
     },
     "execution_count": 77,
     "metadata": {},
     "output_type": "execute_result"
    },
    {
     "data": {
      "image/png": "[encoded data removed]",
      "text/plain": [
       "<Figure size 432x288 with 1 Axes>"
      ]
     },
     "metadata": {
      "needs_background": "light"
     },
     "output_type": "display_data"
    }
   ],
   "source": [
    "plt.plot(np.cumsum(pca.explained_variance_ratio_))\n",
    "plt.title('Cumulative variance')\n",
    "plt.xlabel('Number of components')\n",
    "plt.ylabel('Variance explained')"
   ]
  },
  {
   "cell_type": "code",
   "execution_count": 78,
   "metadata": {},
   "outputs": [],
   "source": [
    "cumvar = np.cumsum(pca.explained_variance_ratio_)"
   ]
  },
  {
   "cell_type": "code",
   "execution_count": 79,
   "metadata": {},
   "outputs": [
    {
     "data": {
      "text/plain": [
       "0.8950805247657252"
      ]
     },
     "execution_count": 79,
     "metadata": {},
     "output_type": "execute_result"
    }
   ],
   "source": [
    "cumvar[50]"
   ]
  },
  {
   "cell_type": "markdown",
   "metadata": {},
   "source": [
    "I picked 50 components, created a new PCA, fit and transform the input data.\n",
    "\n",
    "I don't think this is the correct approach, but I want to test the accuracy with lower data dimensions. So I split the data, create a new classifier, train it, and test it."
   ]
  },
  {
   "cell_type": "code",
   "execution_count": 80,
   "metadata": {},
   "outputs": [],
   "source": [
    "# Transform the data to 50 dimension\n",
    "pca_50 = PCA(50)\n",
    "X_new_train = pca_50.fit_transform(X)\n",
    "\n",
    "# Split into train and test data\n",
    "X_pca_train = X_new_train[:5291]\n",
    "X_pca_test = X_new_train[5291:]\n",
    "Y_pca_train = Y[:5291]\n",
    "Y_pca_test = Y[5291:]"
   ]
  },
  {
   "cell_type": "code",
   "execution_count": 81,
   "metadata": {},
   "outputs": [
    {
     "name": "stdout",
     "output_type": "stream",
     "text": [
      "X train data shape: (5291, 50), X test data shape: (2000, 50)\n",
      "Y train data shape: (5291, 1),Y test data shape: (2000, 1)\n"
     ]
    }
   ],
   "source": [
    "print(f\"X train data shape: {X_pca_train.shape}, X test data shape: {X_pca_test.shape}\")\n",
    "print(f\"Y train data shape: {Y_pca_train.shape},Y test data shape: {Y_pca_test.shape}\")"
   ]
  },
  {
   "cell_type": "code",
   "execution_count": 82,
   "metadata": {},
   "outputs": [
    {
     "data": {
      "text/plain": [
       "KNeighborsClassifier(n_neighbors=7)"
      ]
     },
     "execution_count": 82,
     "metadata": {},
     "output_type": "execute_result"
    }
   ],
   "source": [
    "# Create new KNN Model and fit it\n",
    "pca_cls = KNeighborsClassifier(n_neighbors=7)\n",
    "pca_cls.fit(X_pca_train, Y_pca_train.values.ravel())"
   ]
  },
  {
   "cell_type": "code",
   "execution_count": 83,
   "metadata": {},
   "outputs": [],
   "source": [
    "# Make a prediction\n",
    "pca_predict = pca_cls.predict(X_pca_test)"
   ]
  },
  {
   "cell_type": "code",
   "execution_count": 84,
   "metadata": {},
   "outputs": [
    {
     "name": "stdout",
     "output_type": "stream",
     "text": [
      "Score: 0.9835\n"
     ]
    }
   ],
   "source": [
    "score_class_pca = pca_cls.score(X_pca_test, Y_pca_test)\n",
    "print(f\"Score: {score_class_pca}\")"
   ]
  }
 ],
 "metadata": {
  "kernelspec": {
   "display_name": "Python 3",
   "language": "python",
   "name": "python3"
  },
  "language_info": {
   "codemirror_mode": {
    "name": "ipython",
    "version": 3
   },
   "file_extension": ".py",
   "mimetype": "text/x-python",
   "name": "python",
   "nbconvert_exporter": "python",
   "pygments_lexer": "ipython3",
   "version": "3.8.5"
  }
 },
 "nbformat": 4,
 "nbformat_minor": 4
}
