{
 "cells": [
  {
   "cell_type": "markdown",
   "metadata": {},
   "source": [
    "# Zipcode data"
   ]
  },
  {
   "cell_type": "code",
   "execution_count": 1,
   "metadata": {},
   "outputs": [
    {
     "name": "stdout",
     "output_type": "stream",
     "text": [
      "   0    1    2    3      4      5      6      7      8      9    ...    248  \\\n",
      "0  6.0 -1.0 -1.0 -1.0 -1.000 -1.000 -1.000 -1.000 -0.631  0.862  ...  0.823   \n",
      "1  5.0 -1.0 -1.0 -1.0 -0.813 -0.671 -0.809 -0.887 -0.671 -0.853  ... -0.671   \n",
      "2  4.0 -1.0 -1.0 -1.0 -1.000 -1.000 -1.000 -1.000 -1.000 -1.000  ... -1.000   \n",
      "3  7.0 -1.0 -1.0 -1.0 -1.000 -1.000 -0.273  0.684  0.960  0.450  ...  1.000   \n",
      "4  3.0 -1.0 -1.0 -1.0 -1.000 -1.000 -0.928 -0.204  0.751  0.466  ...  0.639   \n",
      "\n",
      "     249    250    251    252    253    254    255  256  257  \n",
      "0  1.000  0.482 -0.474 -0.991 -1.000 -1.000 -1.000 -1.0  NaN  \n",
      "1 -0.033  0.761  0.762  0.126 -0.095 -0.671 -0.828 -1.0  NaN  \n",
      "2 -1.000 -0.109  1.000 -0.179 -1.000 -1.000 -1.000 -1.0  NaN  \n",
      "3  0.536 -0.987 -1.000 -1.000 -1.000 -1.000 -1.000 -1.0  NaN  \n",
      "4  1.000  1.000  0.791  0.439 -0.199 -0.883 -1.000 -1.0  NaN  \n",
      "\n",
      "[5 rows x 258 columns]\n"
     ]
    }
   ],
   "source": [
    "import numpy as np\n",
    "import pandas as pd\n",
    "import matplotlib.pyplot as plt\n",
    "import sklearn\n",
    "\n",
    "# Load the file with training data\n",
    "file = pd.read_csv('data/zip.train', ' ', header=None)    \n",
    "print(file.head())"
   ]
  },
  {
   "cell_type": "code",
   "execution_count": 2,
   "metadata": {},
   "outputs": [],
   "source": [
    "# Create feature vector\n",
    "X = pd.DataFrame()\n",
    "count = 0\n",
    "\n",
    "for i in file.columns:\n",
    "    X.insert(count, i, file[i])\n",
    "    count += 1\n",
    "X = X.drop([257], axis=1)\n",
    "# print(X)"
   ]
  },
  {
   "cell_type": "code",
   "execution_count": 3,
   "metadata": {},
   "outputs": [
    {
     "name": "stdout",
     "output_type": "stream",
     "text": [
      "Number: 6\n"
     ]
    },
    {
     "data": {
      "image/png": "[encoded data removed]",
      "text/plain": [
       "<Figure size 432x288 with 1 Axes>"
      ]
     },
     "metadata": {
      "needs_background": "light"
     },
     "output_type": "display_data"
    }
   ],
   "source": [
    "# Plot data image\n",
    "img = np.array(X.loc[0])\n",
    "label = int(img[0])\n",
    "img = img[1:]\n",
    "img = img.reshape((16, 16))\n",
    "print(f\"Number: {label}\")\n",
    "imgplot = plt.imshow(img, cmap='gray')"
   ]
  },
  {
   "cell_type": "code",
   "execution_count": 4,
   "metadata": {},
   "outputs": [
    {
     "name": "stdout",
     "output_type": "stream",
     "text": [
      "1458\n",
      "5832\n"
     ]
    }
   ],
   "source": [
    "validation = int(X.shape[0] * 0.2)\n",
    "train = int(X.shape[0] * 0.8)\n",
    "print(validation)\n",
    "print(train)"
   ]
  },
  {
   "cell_type": "code",
   "execution_count": 5,
   "metadata": {},
   "outputs": [
    {
     "name": "stdout",
     "output_type": "stream",
     "text": [
      "(5832, 257)\n",
      "(1459, 257)\n",
      "(5832, 1)\n",
      "(1459, 1)\n"
     ]
    }
   ],
   "source": [
    "# Split the data\n",
    "X_train = X[:train]\n",
    "X_validation = X[train:]\n",
    "Y_train = X_train[[0]]\n",
    "Y_validation = X_validation[[0]]\n",
    "print(X_train.shape)\n",
    "print(X_validation.shape)\n",
    "print(Y_train.shape)\n",
    "print(Y_validation.shape)"
   ]
  },
  {
   "cell_type": "code",
   "execution_count": 6,
   "metadata": {},
   "outputs": [],
   "source": [
    "from sklearn import linear_model\n",
    "from sklearn.metrics import mean_squared_error, r2_score\n",
    "\n",
    "# Create Linear model\n",
    "model = linear_model.LogisticRegression(random_state=0, max_iter=1500) # Logistic regression"
   ]
  },
  {
   "cell_type": "code",
   "execution_count": 7,
   "metadata": {},
   "outputs": [
    {
     "data": {
      "text/plain": [
       "LogisticRegression(max_iter=1500, random_state=0)"
      ]
     },
     "execution_count": 7,
     "metadata": {},
     "output_type": "execute_result"
    }
   ],
   "source": [
    "# Fit the model\n",
    "model.fit(X_train, Y_train.values.ravel())"
   ]
  },
  {
   "cell_type": "code",
   "execution_count": 8,
   "metadata": {},
   "outputs": [],
   "source": [
    "# Make a prediction\n",
    "Y_pred = model.predict(X_train)"
   ]
  },
  {
   "cell_type": "code",
   "execution_count": 9,
   "metadata": {
    "scrolled": true
   },
   "outputs": [
    {
     "name": "stdout",
     "output_type": "stream",
     "text": [
      "Score: 1.0\n",
      "Intercept: [ 17.92733826   6.3220407   19.4477865   10.04136599   1.87838994\n",
      "   4.76552921 -11.22054956  -7.45255026 -12.45440032 -29.25495047]\n",
      "Mean squared error (MSE): 0.0\n",
      "Coefficient of determination (R^2): 1.0\n"
     ]
    }
   ],
   "source": [
    "# Print the results\n",
    "print(f'Score: {model.score(X_train,Y_train)}')\n",
    "print(f'Intercept: {model.intercept_}')\n",
    "print(f'Mean squared error (MSE): {mean_squared_error(Y_train, Y_pred)}')\n",
    "print(f'Coefficient of determination (R^2): {r2_score(Y_train, Y_pred)}')"
   ]
  },
  {
   "cell_type": "markdown",
   "metadata": {},
   "source": [
    "## K-nearest neighbors classification"
   ]
  },
  {
   "cell_type": "code",
   "execution_count": 10,
   "metadata": {
    "scrolled": false
   },
   "outputs": [
    {
     "name": "stdout",
     "output_type": "stream",
     "text": [
      "KNN n_neighbors = 3\n",
      "Accuracy score: 0.9794379712131597\n",
      "-----------------------------\n",
      "KNN n_neighbors = 5\n",
      "Accuracy score: 0.980123372172721\n",
      "-----------------------------\n",
      "KNN n_neighbors = 7\n",
      "Accuracy score: 0.978067169294037\n",
      "-----------------------------\n",
      "KNN n_neighbors = 9\n",
      "Accuracy score: 0.9732693625771076\n",
      "-----------------------------\n",
      "KNN n_neighbors = 11\n",
      "Accuracy score: 0.976010966415353\n",
      "-----------------------------\n",
      "KNN n_neighbors = 13\n",
      "Accuracy score: 0.976010966415353\n",
      "-----------------------------\n",
      "KNN n_neighbors = 15\n",
      "Accuracy score: 0.973954763536669\n",
      "-----------------------------\n",
      "Best Accuracy score: 0.980123372172721\n",
      "KNN n_neighbors = 5\n"
     ]
    }
   ],
   "source": [
    "from sklearn.neighbors import KNeighborsClassifier\n",
    "acc = 0\n",
    "neighbors = 0\n",
    "for i in range(3, 16, 2):\n",
    "    print(f\"KNN n_neighbors = {i}\")\n",
    "    cls = KNeighborsClassifier(n_neighbors=i)\n",
    "    cls.fit(X_train, Y_train.values.ravel())\n",
    "    cls_pred = cls.predict(X_validation)\n",
    "    score = cls.score(X_validation, Y_validation)\n",
    "    if score > acc:\n",
    "        acc = score\n",
    "        neighbors = i\n",
    "    print(f\"Accuracy score: {score}\")\n",
    "    print(\"-----------------------------\")\n",
    "print(f\"Best Accuracy score: {acc}\")\n",
    "print(f\"KNN n_neighbors = {neighbors}\")"
   ]
  },
  {
   "cell_type": "code",
   "execution_count": 11,
   "metadata": {},
   "outputs": [
    {
     "name": "stdout",
     "output_type": "stream",
     "text": [
      "Accuracy score: 0.980123372172721\n",
      "KNN n_neighbors = 5\n"
     ]
    }
   ],
   "source": [
    "cls = KNeighborsClassifier(n_neighbors=neighbors)\n",
    "cls.fit(X_train, Y_train.values.ravel())\n",
    "cls_pred = cls.predict(X_validation)\n",
    "score = cls.score(X_validation, Y_validation)\n",
    "print(f\"Accuracy score: {score}\")\n",
    "print(f\"KNN n_neighbors = {neighbors}\")"
   ]
  },
  {
   "cell_type": "markdown",
   "metadata": {},
   "source": [
    "# Test data"
   ]
  },
  {
   "cell_type": "code",
   "execution_count": 12,
   "metadata": {},
   "outputs": [],
   "source": [
    "# Load the file with test data\n",
    "test_file = pd.read_csv('data/zip.test', ' ', header=None)\n",
    "Y_test_file = test_file[[0]]"
   ]
  },
  {
   "cell_type": "code",
   "execution_count": 13,
   "metadata": {},
   "outputs": [
    {
     "name": "stdout",
     "output_type": "stream",
     "text": [
      "Test data shape: (2007, 257)\n",
      "Labels shape (Y): (2007, 1)\n"
     ]
    }
   ],
   "source": [
    "# Check the shape of inputs\n",
    "print(f\"Test data shape: {test_file.shape}\")\n",
    "print(f\"Labels shape (Y): {Y_test_file.shape}\")"
   ]
  },
  {
   "cell_type": "markdown",
   "metadata": {},
   "source": [
    "## Logistic regression"
   ]
  },
  {
   "cell_type": "code",
   "execution_count": 14,
   "metadata": {},
   "outputs": [],
   "source": [
    "# Make a prediction\n",
    "test_data_pred = model.predict(test_file)"
   ]
  },
  {
   "cell_type": "code",
   "execution_count": 15,
   "metadata": {
    "scrolled": true
   },
   "outputs": [
    {
     "name": "stdout",
     "output_type": "stream",
     "text": [
      "Score: 0.9681116093672147\n",
      "Intercept: [ 17.92733826   6.3220407   19.4477865   10.04136599   1.87838994\n",
      "   4.76552921 -11.22054956  -7.45255026 -12.45440032 -29.25495047]\n",
      "Mean squared error (MSE): 0.12406576980568013\n",
      "Coefficient of determination (R^2): 0.9863764369550464\n"
     ]
    }
   ],
   "source": [
    "# Print the results\n",
    "print(f'Score: {model.score(test_file, Y_test_file)}')\n",
    "print(f'Intercept: {model.intercept_}')\n",
    "print(f'Mean squared error (MSE): {mean_squared_error(Y_test_file, test_data_pred)}')\n",
    "print(f'Coefficient of determination (R^2): {r2_score(Y_test_file, test_data_pred)}')"
   ]
  },
  {
   "cell_type": "markdown",
   "metadata": {},
   "source": [
    "## K-nearest neighbors classification"
   ]
  },
  {
   "cell_type": "code",
   "execution_count": 16,
   "metadata": {},
   "outputs": [],
   "source": [
    "# Make a prediction\n",
    "test_data_classification = cls.predict(test_file)"
   ]
  },
  {
   "cell_type": "code",
   "execution_count": 17,
   "metadata": {},
   "outputs": [
    {
     "name": "stdout",
     "output_type": "stream",
     "text": [
      "Test classification data shape: (2007, 257)\n",
      "Labels shape (Y): (2007, 1)\n"
     ]
    }
   ],
   "source": [
    "# Check the shape of data\n",
    "print(f\"Test classification data shape: {test_file.shape}\")\n",
    "print(f\"Labels shape (Y): {Y_test_file.shape}\")"
   ]
  },
  {
   "cell_type": "code",
   "execution_count": 18,
   "metadata": {},
   "outputs": [
    {
     "name": "stdout",
     "output_type": "stream",
     "text": [
      "Accuracy score: 0.9636273044344793\n"
     ]
    }
   ],
   "source": [
    "# Print the score\n",
    "score_class = cls.score(test_file, Y_test_file)\n",
    "prob_class = cls.predict_proba(test_file)\n",
    "print(f\"Accuracy score: {score_class}\")"
   ]
  },
  {
   "cell_type": "markdown",
   "metadata": {},
   "source": [
    "## PCA"
   ]
  },
  {
   "cell_type": "markdown",
   "metadata": {},
   "source": [
    "I create PCA model with all the features to see how the variance change with different number of components."
   ]
  },
  {
   "cell_type": "code",
   "execution_count": 19,
   "metadata": {},
   "outputs": [
    {
     "data": {
      "text/plain": [
       "PCA()"
      ]
     },
     "execution_count": 19,
     "metadata": {},
     "output_type": "execute_result"
    }
   ],
   "source": [
    "from sklearn.decomposition import PCA\n",
    "from sklearn.preprocessing import normalize\n",
    "\n",
    "# Create PCA model\n",
    "pca = PCA()\n",
    "\n",
    "x_norm = normalize(X_train)\n",
    "\n",
    "# Fit and transform the model\n",
    "pca.fit(x_norm)"
   ]
  },
  {
   "cell_type": "code",
   "execution_count": 30,
   "metadata": {},
   "outputs": [
    {
     "name": "stdout",
     "output_type": "stream",
     "text": [
      "PCA score : 679.5650915212956\n",
      "PCA noise variance : 0.0\n",
      "PCA variance ration : 0.9999999999999994\n"
     ]
    }
   ],
   "source": [
    "print(f\"PCA score : {pca.score(x_norm)}\")\n",
    "print(f\"PCA noise variance : {pca.noise_variance_}\")\n",
    "print(f\"PCA variance ration : {np.cumsum(pca.explained_variance_ratio_)[256]}\")"
   ]
  },
  {
   "cell_type": "code",
   "execution_count": 21,
   "metadata": {},
   "outputs": [
    {
     "data": {
      "text/plain": [
       "Text(0, 0.5, 'Variance explained')"
      ]
     },
     "execution_count": 21,
     "metadata": {},
     "output_type": "execute_result"
    },
    {
     "data": {
      "image/png": "[encoded data removed]",
      "text/plain": [
       "<Figure size 432x288 with 1 Axes>"
      ]
     },
     "metadata": {
      "needs_background": "light"
     },
     "output_type": "display_data"
    }
   ],
   "source": [
    "plt.plot(np.cumsum(pca.explained_variance_ratio_))\n",
    "plt.title('Cumulative variance')\n",
    "plt.xlabel('Number of components')\n",
    "plt.ylabel('Variance explained')"
   ]
  },
  {
   "cell_type": "code",
   "execution_count": 22,
   "metadata": {},
   "outputs": [],
   "source": [
    "cumvar = np.cumsum(pca.explained_variance_ratio_)"
   ]
  },
  {
   "cell_type": "code",
   "execution_count": 23,
   "metadata": {},
   "outputs": [
    {
     "data": {
      "text/plain": [
       "0.9071407951971542"
      ]
     },
     "execution_count": 23,
     "metadata": {},
     "output_type": "execute_result"
    }
   ],
   "source": [
    "cumvar[55]"
   ]
  },
  {
   "cell_type": "code",
   "execution_count": 24,
   "metadata": {},
   "outputs": [],
   "source": [
    "# Transform the data to 55 dimension\n",
    "pca_55 = PCA(n_components=55)\n",
    "X_pca = pca_55.fit_transform(X_train)\n",
    "\n",
    "# Split into train and test data\n",
    "X_pca_train = X_pca[:5291]\n",
    "X_pca_test = X_pca[5291:]\n",
    "Y_pca_train = Y_train[:5291]\n",
    "Y_pca_test = Y_train[5291:]"
   ]
  },
  {
   "cell_type": "code",
   "execution_count": 25,
   "metadata": {},
   "outputs": [
    {
     "name": "stdout",
     "output_type": "stream",
     "text": [
      "X train data shape: (5291, 55), X test data shape: (541, 55)\n",
      "Y train data shape: (5291, 1),Y test data shape: (541, 1)\n"
     ]
    }
   ],
   "source": [
    "print(f\"X train data shape: {X_pca_train.shape}, X test data shape: {X_pca_test.shape}\")\n",
    "print(f\"Y train data shape: {Y_pca_train.shape},Y test data shape: {Y_pca_test.shape}\")"
   ]
  },
  {
   "cell_type": "code",
   "execution_count": 26,
   "metadata": {},
   "outputs": [
    {
     "data": {
      "text/plain": [
       "KNeighborsClassifier()"
      ]
     },
     "execution_count": 26,
     "metadata": {},
     "output_type": "execute_result"
    }
   ],
   "source": [
    "# Create new KNN Model and fit it\n",
    "pca_cls = KNeighborsClassifier(n_neighbors=neighbors)\n",
    "pca_cls.fit(X_pca_train, Y_pca_train.values.ravel())"
   ]
  },
  {
   "cell_type": "code",
   "execution_count": 27,
   "metadata": {},
   "outputs": [],
   "source": [
    "# Make a prediction\n",
    "pca_predict = pca_cls.predict(X_pca_test)"
   ]
  },
  {
   "cell_type": "code",
   "execution_count": 29,
   "metadata": {},
   "outputs": [
    {
     "name": "stdout",
     "output_type": "stream",
     "text": [
      "KNN score: 0.9815157116451017\n",
      "PCA noise variance : 0.05984597516894618\n",
      "PCA score: -81.43974208145485\n",
      "PCA variance: 0.9065595247946785\n"
     ]
    }
   ],
   "source": [
    "score_class_pca = pca_cls.score(X_pca_test, Y_pca_test)\n",
    "score_pca = pca_55.score(X_train)\n",
    "explained_variance = np.cumsum(pca_55.explained_variance_ratio_)\n",
    "print(f\"KNN score: {score_class_pca}\")\n",
    "print(f\"PCA noise variance : {pca_55.noise_variance_}\")\n",
    "print(f\"PCA score: {score_pca}\")\n",
    "print(f\"PCA variance: {explained_variance[54]}\")"
   ]
  }
 ],
 "metadata": {
  "kernelspec": {
   "display_name": "Python 3",
   "language": "python",
   "name": "python3"
  },
  "language_info": {
   "codemirror_mode": {
    "name": "ipython",
    "version": 3
   },
   "file_extension": ".py",
   "mimetype": "text/x-python",
   "name": "python",
   "nbconvert_exporter": "python",
   "pygments_lexer": "ipython3",
   "version": "3.8.5"
  }
 },
 "nbformat": 4,
 "nbformat_minor": 4
}
